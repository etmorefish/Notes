{
 "cells": [
  {
   "cell_type": "code",
   "execution_count": 137,
   "metadata": {},
   "outputs": [],
   "source": [
    "import requests\n",
    "from lxml import etree"
   ]
  },
  {
   "cell_type": "code",
   "execution_count": 138,
   "metadata": {},
   "outputs": [],
   "source": [
    "url = \"https://www.jeebei.com/pingce/chengfen/1.html\"\n",
    "headers = {\"User-Agent\": \"Mozilla/5.0 (X11; Linux x86_64) AppleWebKit/537.36 (KHTML, like Gecko) Chrome/99.0.4844.16 Safari/537.36 Edg/99.0.1150.7\"}\n",
    "\n",
    "resp = requests.get(url=url, headers=headers, timeout=200)"
   ]
  },
  {
   "cell_type": "code",
   "execution_count": 139,
   "metadata": {},
   "outputs": [
    {
     "data": {
      "text/plain": [
       "<Element html at 0x7fe13b62fa00>"
      ]
     },
     "execution_count": 139,
     "metadata": {},
     "output_type": "execute_result"
    }
   ],
   "source": [
    "html = resp.content.decode('UTF-8')\n",
    "res = etree.HTML(html)\n",
    "res"
   ]
  },
  {
   "cell_type": "code",
   "execution_count": 140,
   "metadata": {},
   "outputs": [],
   "source": [
    "target = res.xpath(\"//div[@class='component met-cons']\")[0]"
   ]
  },
  {
   "cell_type": "code",
   "execution_count": 141,
   "metadata": {},
   "outputs": [
    {
     "data": {
      "text/plain": [
       "'水'"
      ]
     },
     "execution_count": 141,
     "metadata": {},
     "output_type": "execute_result"
    }
   ],
   "source": [
    "target.xpath(\"//h1/text()\")[0]"
   ]
  },
  {
   "cell_type": "code",
   "execution_count": 142,
   "metadata": {},
   "outputs": [
    {
     "data": {
      "text/plain": [
       "'作为其他成分的溶剂使用。水是使用最广的化妆品成分，水通常是化妆品中含量最高的成分，所以常常被列在产品成分表之首。尽管有人宣称皮肤需要水，有些产品宣称添加了特殊的水，但研究表明水对皮肤来说并不是最重要的成分。皮肤表层只需要10%的水分就可以让皮肤保持光滑了。研究发现干性皮肤和中性皮肤及油性皮肤中的含水量并没有明显的差别，而且皮肤中的含水量过多，还会破坏联系皮肤细胞的细胞间质，造成皮肤问题。皮肤细胞间质和其它物质的最重要作用是保持细胞完整和避免水分流失。'"
      ]
     },
     "execution_count": 142,
     "metadata": {},
     "output_type": "execute_result"
    }
   ],
   "source": [
    "target.xpath(\"//p[@class='content']/text()\")[0].strip(\"参考资料【The beauty bible】jeebei.com']\")"
   ]
  },
  {
   "cell_type": "code",
   "execution_count": 143,
   "metadata": {},
   "outputs": [
    {
     "data": {
      "text/plain": [
       "'1'"
      ]
     },
     "execution_count": 143,
     "metadata": {},
     "output_type": "execute_result"
    }
   ],
   "source": [
    "target.xpath(\"//p/span[@class='safe-color']/text()\")[0].strip()"
   ]
  },
  {
   "cell_type": "code",
   "execution_count": 144,
   "metadata": {},
   "outputs": [
    {
     "data": {
      "text/plain": [
       "4"
      ]
     },
     "execution_count": 144,
     "metadata": {},
     "output_type": "execute_result"
    }
   ],
   "source": [
    "len(target.xpath(\"//p/img[contains(@src,'cestart')]\"))"
   ]
  },
  {
   "cell_type": "code",
   "execution_count": 145,
   "metadata": {},
   "outputs": [
    {
     "data": {
      "text/plain": [
       "'溶剂'"
      ]
     },
     "execution_count": 145,
     "metadata": {},
     "output_type": "execute_result"
    }
   ],
   "source": [
    "target.xpath(\"//p/text()\")[0].split(\"：\")[-1].strip()"
   ]
  }
 ],
 "metadata": {
  "interpreter": {
   "hash": "1a0203400c6559b3eda3462ac489bee374b7678eadec9f30fb58918206db341e"
  },
  "kernelspec": {
   "display_name": "Python 3.9.6 64-bit ('jupyter': conda)",
   "language": "python",
   "name": "python3"
  },
  "language_info": {
   "codemirror_mode": {
    "name": "ipython",
    "version": 3
   },
   "file_extension": ".py",
   "mimetype": "text/x-python",
   "name": "python",
   "nbconvert_exporter": "python",
   "pygments_lexer": "ipython3",
   "version": "3.9.6"
  },
  "orig_nbformat": 4
 },
 "nbformat": 4,
 "nbformat_minor": 2
}
