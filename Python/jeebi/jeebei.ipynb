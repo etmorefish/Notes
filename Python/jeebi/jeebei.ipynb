{
 "cells": [
  {
   "cell_type": "code",
   "execution_count": 137,
   "metadata": {},
   "outputs": [],
   "source": [
    "import requests\n",
    "from lxml import etree"
   ]
  },
  {
   "cell_type": "code",
   "execution_count": 138,
   "metadata": {},
   "outputs": [],
   "source": [
    "url = \"https://www.jeebei.com/pingce/chengfen/1.html\"\n",
    "headers = {\"User-Agent\": \"Mozilla/5.0 (X11; Linux x86_64) AppleWebKit/537.36 (KHTML, like Gecko) Chrome/99.0.4844.16 Safari/537.36 Edg/99.0.1150.7\"}\n",
    "\n",
    "resp = requests.get(url=url, headers=headers, timeout=200)"
   ]
  },
  {
   "cell_type": "code",
   "execution_count": 146,
   "metadata": {},
   "outputs": [
    {
     "data": {
      "text/plain": [
       "404"
      ]
     },
     "execution_count": 146,
     "metadata": {},
     "output_type": "execute_result"
    }
   ],
   "source": [
    "url = \"https://www.jeebei.com/pingce/chengfen/3626.html\"\n",
    "headers = {\"User-Agent\": \"Mozilla/5.0 (X11; Linux x86_64) AppleWebKit/537.36 (KHTML, like Gecko) Chrome/99.0.4844.16 Safari/537.36 Edg/99.0.1150.7\"}\n",
    "\n",
    "resp = requests.get(url=url, headers=headers, timeout=200)\n",
    "resp.status_code"
   ]
  },
  {
   "cell_type": "code",
   "execution_count": 139,
   "metadata": {},
   "outputs": [
    {
     "data": {
      "text/plain": [
       "<Element html at 0x7fe13b62fa00>"
      ]
     },
     "execution_count": 139,
     "metadata": {},
     "output_type": "execute_result"
    }
   ],
   "source": [
    "html = resp.content.decode('UTF-8')\n",
    "res = etree.HTML(html)\n",
    "res"
   ]
  },
  {
   "cell_type": "code",
   "execution_count": 140,
   "metadata": {},
   "outputs": [],
   "source": [
    "target = res.xpath(\"//div[@class='component met-cons']\")[0]"
   ]
  },
  {
   "cell_type": "code",
   "execution_count": 141,
   "metadata": {},
   "outputs": [
    {
     "data": {
      "text/plain": [
       "'水'"
      ]
     },
     "execution_count": 141,
     "metadata": {},
     "output_type": "execute_result"
    }
   ],
   "source": [
    "target.xpath(\"//h1/text()\")[0]"
   ]
  },
  {
   "cell_type": "code",
   "execution_count": 142,
   "metadata": {},
   "outputs": [
    {
     "data": {
      "text/plain": [
       "'作为其他成分的溶剂使用。水是使用最广的化妆品成分，水通常是化妆品中含量最高的成分，所以常常被列在产品成分表之首。尽管有人宣称皮肤需要水，有些产品宣称添加了特殊的水，但研究表明水对皮肤来说并不是最重要的成分。皮肤表层只需要10%的水分就可以让皮肤保持光滑了。研究发现干性皮肤和中性皮肤及油性皮肤中的含水量并没有明显的差别，而且皮肤中的含水量过多，还会破坏联系皮肤细胞的细胞间质，造成皮肤问题。皮肤细胞间质和其它物质的最重要作用是保持细胞完整和避免水分流失。'"
      ]
     },
     "execution_count": 142,
     "metadata": {},
     "output_type": "execute_result"
    }
   ],
   "source": [
    "target.xpath(\"//p[@class='content']/text()\")[0].strip(\"参考资料【The beauty bible】jeebei.com']\")"
   ]
  },
  {
   "cell_type": "code",
   "execution_count": 143,
   "metadata": {},
   "outputs": [
    {
     "data": {
      "text/plain": [
       "'1'"
      ]
     },
     "execution_count": 143,
     "metadata": {},
     "output_type": "execute_result"
    }
   ],
   "source": [
    "target.xpath(\"//p/span[@class='safe-color']/text()\")[0].strip()"
   ]
  },
  {
   "cell_type": "code",
   "execution_count": 144,
   "metadata": {},
   "outputs": [
    {
     "data": {
      "text/plain": [
       "4"
      ]
     },
     "execution_count": 144,
     "metadata": {},
     "output_type": "execute_result"
    }
   ],
   "source": [
    "len(target.xpath(\"//p/img[contains(@src,'cestart')]\"))"
   ]
  },
  {
   "cell_type": "code",
   "execution_count": 145,
   "metadata": {},
   "outputs": [
    {
     "data": {
      "text/plain": [
       "'溶剂'"
      ]
     },
     "execution_count": 145,
     "metadata": {},
     "output_type": "execute_result"
    }
   ],
   "source": [
    "target.xpath(\"//p/text()\")[0].split(\"：\")[-1].strip()"
   ]
  },
  {
   "cell_type": "markdown",
   "metadata": {},
   "source": [
    "# 产品详情 spider"
   ]
  },
  {
   "cell_type": "code",
   "execution_count": 178,
   "metadata": {},
   "outputs": [],
   "source": [
    "url1 = \"https://www.jeebei.com/pingce/hufupin/plbg0i9cyn.html\"\n",
    "\n",
    "resp1 = requests.get(url=url1, headers=headers, timeout=200)"
   ]
  },
  {
   "cell_type": "code",
   "execution_count": 179,
   "metadata": {},
   "outputs": [],
   "source": [
    "html1 = resp1.content.decode('UTF-8')\n",
    "res1 = etree.HTML(html1)"
   ]
  },
  {
   "cell_type": "code",
   "execution_count": 180,
   "metadata": {},
   "outputs": [],
   "source": [
    "target1 = res1.xpath(\"//table[@class='table']\")[0]\n",
    "trs = target1.xpath(\"./tr\")"
   ]
  },
  {
   "cell_type": "code",
   "execution_count": 181,
   "metadata": {},
   "outputs": [
    {
     "data": {
      "text/plain": [
       "'1961'"
      ]
     },
     "execution_count": 181,
     "metadata": {},
     "output_type": "execute_result"
    }
   ],
   "source": [
    "trs[1].xpath(\"./td[1]/@data\")[0]"
   ]
  },
  {
   "cell_type": "code",
   "execution_count": 195,
   "metadata": {},
   "outputs": [
    {
     "data": {
      "text/plain": [
       "'聚二甲基硅氧烷'"
      ]
     },
     "execution_count": 195,
     "metadata": {},
     "output_type": "execute_result"
    }
   ],
   "source": [
    "trs[11].xpath(\"./td[1]/span/text()\")[0]"
   ]
  },
  {
   "cell_type": "code",
   "execution_count": 183,
   "metadata": {},
   "outputs": [
    {
     "data": {
      "text/plain": [
       "['化学防晒剂']"
      ]
     },
     "execution_count": 183,
     "metadata": {},
     "output_type": "execute_result"
    }
   ],
   "source": [
    "trs[1].xpath(\"./td[2]/text()\")"
   ]
  },
  {
   "cell_type": "code",
   "execution_count": 184,
   "metadata": {},
   "outputs": [
    {
     "data": {
      "text/plain": [
       "'6'"
      ]
     },
     "execution_count": 184,
     "metadata": {},
     "output_type": "execute_result"
    }
   ],
   "source": [
    "trs[1].xpath(\"./td[3]/span/text()\")[0]"
   ]
  },
  {
   "cell_type": "code",
   "execution_count": 193,
   "metadata": {},
   "outputs": [
    {
     "data": {
      "text/plain": [
       "[<Element span at 0x7fe150345700>]"
      ]
     },
     "execution_count": 193,
     "metadata": {},
     "output_type": "execute_result"
    }
   ],
   "source": [
    "trs[18].xpath(\"./td[4]/span\")"
   ]
  },
  {
   "cell_type": "code",
   "execution_count": 202,
   "metadata": {},
   "outputs": [
    {
     "data": {
      "text/plain": [
       "['1']"
      ]
     },
     "execution_count": 202,
     "metadata": {},
     "output_type": "execute_result"
    }
   ],
   "source": [
    "trs[11].xpath(\"./td[5]/span/text()\") or 0"
   ]
  },
  {
   "cell_type": "code",
   "execution_count": 206,
   "metadata": {},
   "outputs": [
    {
     "data": {
      "text/plain": [
       "[<Element img at 0x7fe13b617a80>, <Element img at 0x7fe13b6842c0>]"
      ]
     },
     "execution_count": 206,
     "metadata": {},
     "output_type": "execute_result"
    }
   ],
   "source": [
    "trs[1].xpath(\"./td[6]/img\")"
   ]
  },
  {
   "cell_type": "code",
   "execution_count": 213,
   "metadata": {},
   "outputs": [
    {
     "data": {
      "text/plain": [
       "[]"
      ]
     },
     "execution_count": 213,
     "metadata": {},
     "output_type": "execute_result"
    }
   ],
   "source": [
    "trs[2].xpath(\"./td[6]/img[contains(@src, 'uv')]/@src\")\n"
   ]
  },
  {
   "cell_type": "code",
   "execution_count": 214,
   "metadata": {},
   "outputs": [
    {
     "data": {
      "text/plain": [
       "['含有香精：0种', '含有防腐剂：3种（苯氧乙醇、山梨酸钾、苯甲酸钠）', '含有风险成分：0种', '含有孕妇慎用：1种（甲氧基肉桂酸乙基己酯）']"
      ]
     },
     "execution_count": 214,
     "metadata": {},
     "output_type": "execute_result"
    }
   ],
   "source": [
    "res1.xpath(\"//div[@class='safe_detail']/p/text()\")"
   ]
  },
  {
   "cell_type": "markdown",
   "metadata": {},
   "source": [
    "# 获取url"
   ]
  },
  {
   "cell_type": "code",
   "execution_count": 223,
   "metadata": {},
   "outputs": [
    {
     "data": {
      "text/plain": [
       "['/pingce/hufupin/mu6caj9fnfuev91mv.html']"
      ]
     },
     "execution_count": 223,
     "metadata": {},
     "output_type": "execute_result"
    }
   ],
   "source": [
    "url2 = 'https://www.jeebei.com/pingce/s.html?act=search&type=1&keywords='\n",
    "title = 'AHC The Pure 第五代全效多功能眼霜'\n",
    "headers.update({'referer': 'https://www.jeebei.com/pingce/search.php'})\n",
    "resp2 = requests.get(url=url2 + title, headers=headers, timeout=200)\n",
    "html2 = resp2.content.decode('UTF-8')\n",
    "res2 = etree.HTML(html2)\n",
    "res2.xpath('//div[@class=\"news_list_title\"]/p/a/@href')\n"
   ]
  },
  {
   "cell_type": "code",
   "execution_count": null,
   "metadata": {},
   "outputs": [],
   "source": [
    "DOMAIN = \"https://www.jeebei.com\"\n",
    "//span[contains(text(),'甲氧基肉桂酸乙基己酯')]"
   ]
  },
  {
   "cell_type": "markdown",
   "metadata": {},
   "source": [
    "https://www.jeebei.com/pingce/s.html?act=search&type=1&keywords=AHC+The+Pure+%E7%AC%AC%E4%BA%94%E4%BB%A3%E5%85%A8%E6%95%88%E5%A4%9A%E5%8A%9F%E8%83%BD%E7%9C%BC%E9%9C%9C"
   ]
  }
 ],
 "metadata": {
  "interpreter": {
   "hash": "1a0203400c6559b3eda3462ac489bee374b7678eadec9f30fb58918206db341e"
  },
  "kernelspec": {
   "display_name": "Python 3.9.6 64-bit ('jupyter': conda)",
   "language": "python",
   "name": "python3"
  },
  "language_info": {
   "codemirror_mode": {
    "name": "ipython",
    "version": 3
   },
   "file_extension": ".py",
   "mimetype": "text/x-python",
   "name": "python",
   "nbconvert_exporter": "python",
   "pygments_lexer": "ipython3",
   "version": "3.9.6"
  },
  "orig_nbformat": 4
 },
 "nbformat": 4,
 "nbformat_minor": 2
}
