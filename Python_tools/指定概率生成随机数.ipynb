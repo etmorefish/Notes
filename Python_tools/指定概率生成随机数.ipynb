{
 "cells": [
  {
   "cell_type": "markdown",
   "metadata": {},
   "source": [
    "# 一、random指定范围随机生成数\n",
    "\n",
    "## 1. random.choice()在指定数据集内生成随机数\n",
    "先建立一个数据集x，然后用方法random.choice（x）从数据集里随机选取一个数"
   ]
  },
  {
   "cell_type": "code",
   "execution_count": 1,
   "metadata": {},
   "outputs": [
    {
     "data": {
      "text/plain": [
       "[0, 1, 2, 3, 4, 5, 6, 7, 8, 9]"
      ]
     },
     "execution_count": 1,
     "metadata": {},
     "output_type": "execute_result"
    }
   ],
   "source": [
    "import random\n",
    "x = [i for i in range(10)]\n",
    "x"
   ]
  },
  {
   "cell_type": "code",
   "execution_count": 7,
   "metadata": {},
   "outputs": [
    {
     "data": {
      "text/plain": [
       "1"
      ]
     },
     "execution_count": 7,
     "metadata": {},
     "output_type": "execute_result"
    }
   ],
   "source": [
    "y = random.choice(x)\n",
    "y"
   ]
  },
  {
   "cell_type": "markdown",
   "metadata": {},
   "source": [
    "## 2. random.sample(x,n)在指定数据集内生成随机数组\n",
    "先建立不重复数据集x,然后通过方法random.sample(x,n)选取长度为n的数组，数组任意数据不重复："
   ]
  },
  {
   "cell_type": "code",
   "execution_count": 8,
   "metadata": {},
   "outputs": [
    {
     "data": {
      "text/plain": [
       "[6, 8, 0, 2, 9, 5, 1]"
      ]
     },
     "execution_count": 8,
     "metadata": {},
     "output_type": "execute_result"
    }
   ],
   "source": [
    "random.sample(x, 7)"
   ]
  },
  {
   "cell_type": "markdown",
   "metadata": {},
   "source": [
    "若建立包含有重复数据的数据集，则通过上述方法，极可能返回子集中也包含有重复数据："
   ]
  },
  {
   "cell_type": "code",
   "execution_count": 9,
   "metadata": {},
   "outputs": [
    {
     "data": {
      "text/plain": [
       "[1, 9, 1, 5, 2, 0, 3]"
      ]
     },
     "execution_count": 9,
     "metadata": {},
     "output_type": "execute_result"
    }
   ],
   "source": [
    "y = x + [1,2,3]\n",
    "random.sample(y, 7)"
   ]
  },
  {
   "cell_type": "markdown",
   "metadata": {},
   "source": [
    "# 二、random指定概率随机生成数\n",
    "\n",
    "- 1. 建立数据集X，长度为n\n",
    "- 2.建立指定概率集，长度需和数据集X一样，且概率和为1\n",
    "- 3.创建制定概率生成随机数方法"
   ]
  },
  {
   "cell_type": "code",
   "execution_count": 67,
   "metadata": {},
   "outputs": [
    {
     "data": {
      "text/plain": [
       "[0.05, 0.05, 0.05, 0.05, 0.1, 0.1, 0.1, 0.1, 0.2, 0.2]"
      ]
     },
     "execution_count": 67,
     "metadata": {},
     "output_type": "execute_result"
    }
   ],
   "source": [
    "import random\n",
    "\n",
    "x = [i for i in range(10)]\n",
    "p = [0.05]*4 + [0.1]*4+ [0.2]*2\n",
    "x  # [0, 1, 2, 3, 4, 5, 6, 7, 8, 9]\n",
    "p  # [0.5, 0.5, 0.5, 0.5, 0.1, 0.1, 0.1, 0.1, 0.2, 0.2]"
   ]
  },
  {
   "cell_type": "code",
   "execution_count": 68,
   "metadata": {},
   "outputs": [],
   "source": [
    "def rate_random(data_list, rate_list):\n",
    "    start = 0\n",
    "    random_num = random.random()\n",
    "    random_num = 0.21\n",
    "    print(random_num)\n",
    "    for index, score in enumerate(rate_list):\n",
    "        start += score\n",
    "        if random_num <= start:\n",
    "            break\n",
    "    return data_list[index]"
   ]
  },
  {
   "cell_type": "code",
   "execution_count": 69,
   "metadata": {},
   "outputs": [
    {
     "name": "stdout",
     "output_type": "stream",
     "text": [
      "0.21\n"
     ]
    },
    {
     "data": {
      "text/plain": [
       "4"
      ]
     },
     "execution_count": 69,
     "metadata": {},
     "output_type": "execute_result"
    }
   ],
   "source": [
    "rate_random(x,p)"
   ]
  },
  {
   "cell_type": "code",
   "execution_count": 63,
   "metadata": {},
   "outputs": [
    {
     "name": "stdout",
     "output_type": "stream",
     "text": [
      "0.21014891554626058\n"
     ]
    },
    {
     "data": {
      "text/plain": [
       "4"
      ]
     },
     "execution_count": 63,
     "metadata": {},
     "output_type": "execute_result"
    }
   ],
   "source": [
    "rate_random(x,p)"
   ]
  },
  {
   "cell_type": "markdown",
   "metadata": {},
   "source": [
    "上述方法，可简单理解为一维坐标上，有一段[0,1）的数据集，将数据集按照概率P分段，每段上代表数值对应为x里的元素，随机选取[0,1）间的数，该数属于哪一段，即返回对应X里的元素。即可按指定概率取指定列表元素。"
   ]
  }
 ],
 "metadata": {
  "interpreter": {
   "hash": "1a0203400c6559b3eda3462ac489bee374b7678eadec9f30fb58918206db341e"
  },
  "kernelspec": {
   "display_name": "Python 3.9.6 64-bit ('jupyter': conda)",
   "name": "python3"
  },
  "language_info": {
   "codemirror_mode": {
    "name": "ipython",
    "version": 3
   },
   "file_extension": ".py",
   "mimetype": "text/x-python",
   "name": "python",
   "nbconvert_exporter": "python",
   "pygments_lexer": "ipython3",
   "version": "3.9.6"
  },
  "orig_nbformat": 4
 },
 "nbformat": 4,
 "nbformat_minor": 2
}
